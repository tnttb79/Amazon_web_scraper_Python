{
 "cells": [
  {
   "cell_type": "code",
   "execution_count": 3,
   "id": "a368952f",
   "metadata": {},
   "outputs": [],
   "source": [
    "from bs4 import BeautifulSoup\n",
    "import requests\n",
    "import time\n",
    "import datetime\n",
    "import csv\n",
    "\n",
    "URL = 'https://www.amazon.com/Percussion-Massager-Athletes-Recovery-Relaxation/dp/B09YGHHRHX/ref=sr_1_1_sspa?crid=1BRVB7S0FHHJJ&keywords=massage+gun&qid=1659809844&s=books&sprefix=massage+gubn%2Cstripbooks%2C145&sr=1-1-spons&psc=1&spLa=ZW5jcnlwdGVkUXVhbGlmaWVyPUExVTczWkZWNVY0MjRCJmVuY3J5cHRlZElkPUEwMzg4ODAzTkxSUTRDQlVHUjJLJmVuY3J5cHRlZEFkSWQ9QTA5MDM1MTMxWlAxUVpCQTlIOFQxJndpZGdldE5hbWU9c3BfYXRmJmFjdGlvbj1jbGlja1JlZGlyZWN0JmRvTm90TG9nQ2xpY2s9dHJ1ZQ=='       \n",
    "header = {'User-Agent': 'Mozilla/5.0 (Windows NT 10.0; Win64; x64) AppleWebKit/537.36 (KHTML, like Gecko) Chrome/103.0.0.0 Safari/537.36', 'Accept-Language': 'en-US, en;q=0.5'}    \n",
    "html_text = requests.get(URL, headers = header)        \n",
    "soup = BeautifulSoup(html_text.content, 'html.parser')\n",
    "title = soup.find('span', id='productTitle').get_text().strip()\n",
    "price = soup.find('span', class_='a-offscreen').get_text().strip()[1:]\n",
    "\n",
    "date = datetime.date.today()\n",
    "headers = ['Title', 'Price', 'Date']\n",
    "data = [title, price, date]\n",
    "with open('Amz_scrape_data.csv', 'w', newline='') as f:\n",
    "    writer = csv.writer(f)\n",
    "    writer.writerow(headers)\n",
    "    writer.writerow(data)\n",
    "    \n",
    "def price_tracker():\n",
    "    URL = 'https://www.amazon.com/Percussion-Massager-Athletes-Recovery-Relaxation/dp/B09YGHHRHX/ref=sr_1_1_sspa?crid=1BRVB7S0FHHJJ&keywords=massage+gun&qid=1659809844&s=books&sprefix=massage+gubn%2Cstripbooks%2C145&sr=1-1-spons&psc=1&spLa=ZW5jcnlwdGVkUXVhbGlmaWVyPUExVTczWkZWNVY0MjRCJmVuY3J5cHRlZElkPUEwMzg4ODAzTkxSUTRDQlVHUjJLJmVuY3J5cHRlZEFkSWQ9QTA5MDM1MTMxWlAxUVpCQTlIOFQxJndpZGdldE5hbWU9c3BfYXRmJmFjdGlvbj1jbGlja1JlZGlyZWN0JmRvTm90TG9nQ2xpY2s9dHJ1ZQ=='                     \n",
    "    header = {'User-Agent': 'Mozilla/5.0 (Windows NT 10.0; Win64; x64) AppleWebKit/537.36 (KHTML, like Gecko) Chrome/103.0.0.0 Safari/537.36', 'Accept-Language': 'en-US, en;q=0.5'}    \n",
    "    html_text = requests.get(URL, headers = header)        \n",
    "    soup = BeautifulSoup(html_text.content, 'html.parser')\n",
    "    title = soup.find('span', id='productTitle').get_text().strip()\n",
    "    price = soup.find('span', class_='a-offscreen').get_text().strip()[1:]\n",
    "    date = datetime.date.today()\n",
    "    headers = ['Title', 'Price']\n",
    "    data = [title, price, date]\n",
    "    with open('Amz_scrape_data.csv', 'a+', newline='') as f:\n",
    "        writer = csv.writer(f)\n",
    "        writer.writerow(data)"
   ]
  },
  {
   "cell_type": "code",
   "execution_count": null,
   "id": "34d5ca8e",
   "metadata": {},
   "outputs": [],
   "source": [
    "while(True):\n",
    "    price_tracker()\n",
    "    time.sleep(86400)"
   ]
  },
  {
   "cell_type": "code",
   "execution_count": 6,
   "id": "2b053198",
   "metadata": {},
   "outputs": [
    {
     "name": "stdout",
     "output_type": "stream",
     "text": [
      "                                               Title  Price        Date\n",
      "0  Massage Gun Deep Tissue Percussion Massager fo...  69.99  2022-08-06\n",
      "1  Massage Gun Deep Tissue Percussion Massager fo...  69.99  2022-08-06\n",
      "2  Massage Gun Deep Tissue Percussion Massager fo...  69.99  2022-08-06\n",
      "3  Massage Gun Deep Tissue Percussion Massager fo...  69.99  2022-08-06\n",
      "4  Massage Gun Deep Tissue Percussion Massager fo...  69.99  2022-08-06\n"
     ]
    }
   ],
   "source": [
    "import pandas as pd\n",
    "df = pd.read_csv(r'..\\Amz_scrape_data.csv')\n",
    "print(df)"
   ]
  }
 ],
 "metadata": {
  "kernelspec": {
   "display_name": "Python 3 (ipykernel)",
   "language": "python",
   "name": "python3"
  },
  "language_info": {
   "codemirror_mode": {
    "name": "ipython",
    "version": 3
   },
   "file_extension": ".py",
   "mimetype": "text/x-python",
   "name": "python",
   "nbconvert_exporter": "python",
   "pygments_lexer": "ipython3",
   "version": "3.9.12"
  }
 },
 "nbformat": 4,
 "nbformat_minor": 5
}
